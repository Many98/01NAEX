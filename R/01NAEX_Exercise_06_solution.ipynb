{
  "nbformat": 4,
  "nbformat_minor": 0,
  "metadata": {
    "colab": {
      "private_outputs": true,
      "provenance": [],
      "collapsed_sections": [],
      "include_colab_link": true
    },
    "kernelspec": {
      "name": "ir",
      "display_name": "R"
    },
    "language_info": {
      "name": "R"
    }
  },
  "cells": [
    {
      "cell_type": "markdown",
      "metadata": {
        "id": "view-in-github",
        "colab_type": "text"
      },
      "source": [
        "<a href=\"https://colab.research.google.com/github/francji1/01NAEX/blob/main/R/01NAEX_Exercise_06_solution.ipynb\" target=\"_parent\"><img src=\"https://colab.research.google.com/assets/colab-badge.svg\" alt=\"Open In Colab\"/></a>"
      ]
    },
    {
      "cell_type": "markdown",
      "source": [
        "\t\n",
        "# O1NAEX Exercise 06"
      ],
      "metadata": {
        "id": "SJRUeUJPrezp"
      }
    },
    {
      "cell_type": "code",
      "source": [
        "cat(system('sudo apt-get install -y gmp', intern=TRUE), sep = \"\\n\")\n",
        "cat(system('sudo apt-get install -y partitions', intern=TRUE), sep = \"\\n\")\n",
        "cat(system('sudo apt-get install -y DoE.base', intern=TRUE), sep = \"\\n\")\n",
        "\n",
        "list_of_packages <- c(\"tidyverse\",\"MASS\",\"FrF2\", \"lattice\") # \"agricolae\",\"nortest\",\"lattice\",\"pwr\",\n",
        "missing_packages <- list_of_packages[!(list_of_packages %in% installed.packages()[,\"Package\"])]\n",
        "missing_packages\n",
        "if(length(missing_packages)) install.packages(missing_packages)\n",
        "lapply(list_of_packages, library, character.only = TRUE)\n"
      ],
      "metadata": {
        "id": "crbwkzr9I90A"
      },
      "execution_count": null,
      "outputs": []
    },
    {
      "cell_type": "code",
      "source": [
        "tibble::tibble(\n",
        "  Package = names(installed.packages()[,3]),\n",
        "  Version = unname(installed.packages()[,3])\n",
        ")"
      ],
      "metadata": {
        "id": "mFJEGP4iPatd"
      },
      "execution_count": null,
      "outputs": []
    },
    {
      "cell_type": "markdown",
      "source": [
        "##\tProblem 6.31 + 6.32\n",
        "from the chapter 6, D. C. Montgomery DAoE - 8. edition.\n",
        "\t\n",
        "An experiment was conducted on a chemical process\n",
        "that produces a polymer. The four factors studied were temperature\n",
        "(A), catalyst concentration (B), time (C), and pressure\n",
        "(D). Two responses, molecular weight and viscosity, were\n",
        "observed. The design matrix and response data are following:"
      ],
      "metadata": {
        "id": "_lYQT0wrrb3V"
      }
    },
    {
      "cell_type": "code",
      "source": [
        "df631 <- read.table(\"https://raw.githubusercontent.com/francji1/01NAEX/main/data/Problem_6_31.txt\",header=TRUE,sep=\";\")\n",
        "df631\n",
        "print(\"First 16 measurments:\")\n",
        "df631_first_16 <- df631[1:16,]\n",
        "df631_first_16"
      ],
      "metadata": {
        "id": "DfQaZt8HzOXa"
      },
      "execution_count": null,
      "outputs": []
    },
    {
      "cell_type": "markdown",
      "source": [
        "Use only first sixteen measurements, center points will be covered in the following lesson."
      ],
      "metadata": {
        "id": "jFIY10h0_iRG"
      }
    },
    {
      "cell_type": "markdown",
      "source": [
        "## Tasks:\n",
        "1. Consider only the molecular weight response. Plot the\n",
        "effect estimates on a normal probability scale. What\n",
        "effects appear important?\n",
        "2. Use an analysis of variance to confirm the results from the first \n",
        "part.\n",
        "3. Write down a regression model to predict molecular\n",
        "weight as a function of the important variables.\n",
        "4. Analyze the residuals and comment on model adequacy.\n",
        "5. Repeat parts 1.–4. using the viscosity response.\n",
        "\n",
        "Use the regression models for molecular weight and viscosity to answer the following questions.\n",
        "6. Construct a response surface contour plot for molecular\n",
        "weight. In what direction would you adjust therocess variables to increase molecular weight?\n",
        "7. Construct a response surface contour plot for viscosity.\n",
        "In what direction would you adjust the process variables\n",
        "to decrease viscosity?\n",
        "8. What operating conditions would you recommend if it\n",
        "was necessary to produce a product with molecular\n",
        "weight between 2400 and 2500 and the lowest possible\n",
        "viscosity?\n",
        "\n"
      ],
      "metadata": {
        "id": "dbEJmeh3zNWJ"
      }
    },
    {
      "cell_type": "code",
      "source": [
        "m         <-  FrF2(2^4, 4, replications = 1, randomize = F,factor.names = c(\"A\", \"B\",\"C\", \"D\"))\n",
        "Weight    <- df631_first_16[1:16,\"Weight\"]\n",
        "#Viscosity <- df631[1:16,\"Viscosity\"]\n",
        "m         <- add.response(m,Weight)\n",
        "#m         <- add.response(m,Viscosity)\n",
        "response.names(m)\n",
        "m"
      ],
      "metadata": {
        "id": "fxD9HMoPrbHg"
      },
      "execution_count": null,
      "outputs": []
    },
    {
      "cell_type": "code",
      "source": [
        "DanielPlot(m,code=TRUE)\n",
        "# Classical effects qqplot\n",
        "qqplot(DanielPlot(m,alpha=0.1)$x,DanielPlot(m)$y)\n",
        "qqline(DanielPlot(m,alpha=0.1)$y)\n",
        "\n",
        "# half normal plot of effects\n",
        "DanielPlot(m,code=TRUE,alpha=0.1,half=TRUE)\n"
      ],
      "metadata": {
        "id": "OnRmcNXGzojB"
      },
      "execution_count": null,
      "outputs": []
    },
    {
      "cell_type": "markdown",
      "source": [
        "# Weight as a response variable"
      ],
      "metadata": {
        "id": "INvQ4mxewQ4O"
      }
    },
    {
      "cell_type": "markdown",
      "source": [
        "## Task 1\n",
        "Consider only the molecular weight response. Plot the\n",
        "effect estimates on a normal probability scale. What\n",
        "effects appear important."
      ],
      "metadata": {
        "id": "fdPJOMVITFUT"
      }
    },
    {
      "cell_type": "code",
      "source": [
        "par(mfrow = c(1,2))\n",
        "options(repr.plot.width = 20, repr.plot.height = 10)\n",
        "\n",
        "model_weight <- lm(Weight~A*B*C*D, data= m)\n",
        "summary(model_weight)\n",
        "barplot(sort(model_weight$coeff[2:(2^4-1)]), las=2)\n",
        "qqnorm(model_weight$coeff[2:(2^4-1)], cex=1.3, pch=15)\n",
        "qqline(model_weight$coeff[2:(2^4-1)], cex=1.3, pch=15)"
      ],
      "metadata": {
        "id": "pE5TJpklrbPN"
      },
      "execution_count": null,
      "outputs": []
    },
    {
      "cell_type": "markdown",
      "source": [
        "Normal qqplot of coeffitients shows that groups A, C and interaction between groups A:B is significant. "
      ],
      "metadata": {
        "id": "gA1ClZVKVxAs"
      }
    },
    {
      "cell_type": "markdown",
      "source": [
        "## Task 2\n",
        "Use analysis of variance to confirm the results from the first \n",
        "part."
      ],
      "metadata": {
        "id": "R7WsCKDGWSdk"
      }
    },
    {
      "cell_type": "code",
      "source": [
        "anova(aov(Weight ~ A*B*C*D, data=m))"
      ],
      "metadata": {
        "id": "2F26bckauxvB"
      },
      "execution_count": null,
      "outputs": []
    },
    {
      "cell_type": "code",
      "source": [
        "anova(aov(Weight ~ (.)^2, data=m))"
      ],
      "metadata": {
        "id": "IPbTZcIy02IE"
      },
      "execution_count": null,
      "outputs": []
    },
    {
      "cell_type": "code",
      "source": [
        "anova(aov(Weight ~ A*B + C, data=m))"
      ],
      "metadata": {
        "id": "nKQF4MSl1Gbc"
      },
      "execution_count": null,
      "outputs": []
    },
    {
      "cell_type": "markdown",
      "source": [
        "Because we have 1 replication of the experiment, there are 0 degrees of freedom for error estimate. That is why Residuals are equal to 0 and NaN values in F-value and p-value. \n",
        "Nonetheless, by looking at the sum of square values, it can be seen that the effects of groups A, C, and interaction AB are significant.\n",
        "This is in line with the results from the Q-Q plot of coefficients in Task 1."
      ],
      "metadata": {
        "id": "5kIZ73gKXczd"
      }
    },
    {
      "cell_type": "markdown",
      "source": [
        "## Task 3\n",
        "Write down a regression model to predict molecular\n",
        "weight as a function of the important variables."
      ],
      "metadata": {
        "id": "6Jcqr6SubiWD"
      }
    },
    {
      "cell_type": "code",
      "source": [
        "model_weight_only_important <- lm(Weight~A+C+B+A:B, data=m)\n",
        "summary(model_weight_only_important)"
      ],
      "metadata": {
        "id": "knQ0cMfJbuvu"
      },
      "execution_count": null,
      "outputs": []
    },
    {
      "cell_type": "markdown",
      "source": [
        "I chose A, C, A:B as important categories based on the Q-Q plot and Anova test results. Variable B is kept in accordance with principles of construction of linear regression model i.e. Regressor B must be present when interaction A:B is present in the model. The results are in accordance with results from the Q-Q plot and Anova test. "
      ],
      "metadata": {
        "id": "UGp0FRlldKap"
      }
    },
    {
      "cell_type": "markdown",
      "source": [
        "## Task 4\n",
        "Analyze the residuals and comment on model adequacy."
      ],
      "metadata": {
        "id": "nfx9XkLEd_ac"
      }
    },
    {
      "cell_type": "code",
      "source": [
        "par(mfrow = c(3,2))\n",
        "options(repr.plot.width = 15, repr.plot.height = 15)\n",
        "\n",
        "plot(model_weight_only_important, which=c(1,2,3,4,5))"
      ],
      "metadata": {
        "id": "cBks2lSueCQN"
      },
      "execution_count": null,
      "outputs": []
    },
    {
      "cell_type": "markdown",
      "source": [
        "Q-Q plot indicates that residuals are normally distributed apart from observation 7, which deviates from the rest. This can be seen in all of the plots.\n",
        "\n",
        "Also, observation has high leverage and seems to cause deviation from a straight line in the Residual vs. fitted fence.\n",
        "\n",
        "Overall performance is good, and there is no visible pattern in residual plots, for this reason, I'm not going to remove the suspicious observations.\n",
        "\n",
        "$R^{2}$ indicates good performance and in this model is a good indicator of performance as there are not that many regressors ($R^{2}$ can be artificially increased by adding additional regressors) and we only have categorical variables as regressors so possible high values of $R^{2}$ because of a large scale of regressors is not an issue."
      ],
      "metadata": {
        "id": "XyS5MhtOmCDt"
      }
    },
    {
      "cell_type": "markdown",
      "source": [
        "# Viscosity as a response variable"
      ],
      "metadata": {
        "id": "npyt-VQQwZp9"
      }
    },
    {
      "cell_type": "markdown",
      "source": [
        "## Task 1\n",
        "Consider only the molecular viscosity response. Plot the\n",
        "effect estimates on a normal probability scale. What\n",
        "effects appear important."
      ],
      "metadata": {
        "id": "qCXRTNgywZp_"
      }
    },
    {
      "cell_type": "code",
      "source": [
        "par(mfrow = c(1,2))\n",
        "options(repr.plot.width = 20, repr.plot.height = 10)\n",
        "\n",
        "model_viscos <- lm(Viscosity~A*B*C*D, data= m)\n",
        "summary(model_viscos)\n",
        "barplot(sort(model_viscos$coeff[2:(2^4-1)]), las=2)\n",
        "qqnorm(model_viscos$coeff[2:(2^4-1)], cex=1.3, pch=15)\n",
        "qqline(model_viscos$coeff[2:(2^4-1)], cex=1.3, pch=15)"
      ],
      "metadata": {
        "id": "bjgKpdN2wZp_"
      },
      "execution_count": null,
      "outputs": []
    },
    {
      "cell_type": "code",
      "source": [],
      "metadata": {
        "id": "hZTE_vghzDpN"
      },
      "execution_count": null,
      "outputs": []
    },
    {
      "cell_type": "markdown",
      "source": [
        "Normal qqplot of coeffitients shows that groups A, B are significant. "
      ],
      "metadata": {
        "id": "ACmz9ZypwZp_"
      }
    },
    {
      "cell_type": "markdown",
      "source": [
        "## Task 2\n",
        "Use analysis of variance to confirm the results from the first \n",
        "part."
      ],
      "metadata": {
        "id": "Xec8-XjqwZp_"
      }
    },
    {
      "cell_type": "code",
      "source": [
        "anova(aov(Viscosity ~ A*B*C*D, data=m))"
      ],
      "metadata": {
        "id": "H3Myqy_JwZqA"
      },
      "execution_count": null,
      "outputs": []
    },
    {
      "cell_type": "markdown",
      "source": [
        "Because we have 1 replication of the experiment, there are 0 degrees of freedom for error estimate. That is why Residuals are equal to 0 and NaN values in F-value and p-value. \n",
        "Nonetheless, by looking at the sum of square values, it can be seen that the effects of groups A, B.\n",
        "This is in line with the results from the Q-Q plot of coefficients in Task 1."
      ],
      "metadata": {
        "id": "fl_FPD9uwZqA"
      }
    },
    {
      "cell_type": "code",
      "source": [
        "anova(aov(Viscosity ~ A*B, data=m))"
      ],
      "metadata": {
        "id": "H1lE3uCi1_7u"
      },
      "execution_count": null,
      "outputs": []
    },
    {
      "cell_type": "markdown",
      "source": [
        "## Task 3\n",
        "Write down a regression model to predict molecular\n",
        "viscosity as a function of the important variables."
      ],
      "metadata": {
        "id": "7Dl4liHKwZqA"
      }
    },
    {
      "cell_type": "code",
      "source": [
        "model_viscos_only_important <- lm(Viscosity~A+B, data=m)\n",
        "summary(model_viscos_only_important)"
      ],
      "metadata": {
        "id": "u3A_5Z02wZqA"
      },
      "execution_count": null,
      "outputs": []
    },
    {
      "cell_type": "markdown",
      "source": [
        "I chose A, B as important categories based on the Q-Q plot and Anova test results. The results are in accordance with results from the Q-Q plot and Anova test."
      ],
      "metadata": {
        "id": "jbyK7snFwZqB"
      }
    },
    {
      "cell_type": "markdown",
      "source": [
        "## Task 4\n",
        "Analyze the residuals and comment on model_viscos adequacy."
      ],
      "metadata": {
        "id": "WibEOsovwZqB"
      }
    },
    {
      "cell_type": "code",
      "source": [
        "par(mfrow = c(3,2))\n",
        "options(repr.plot.width = 15, repr.plot.height = 15)\n",
        "\n",
        "plot(model_viscos_only_important, which=c(1,2,3,4,5))"
      ],
      "metadata": {
        "id": "qSUgnvIdwZqB"
      },
      "execution_count": null,
      "outputs": []
    },
    {
      "cell_type": "markdown",
      "source": [
        "Q-Q plot indicates that residuals are normally distributed apart from observation 12, which deviates from the rest. This can be seen in all of the plots.\n",
        "\n",
        "Overall performance is not very good, there is a visible pattern in Residuals vs. fitted values, residual values increase whith fitted values. Also Scale-Location plot indicates bad performance. \n",
        "\n",
        "$R^{2}$ indicates good performance and in this model is a good indicator of performance as there are not that many regressors ($R^{2}$ can be artificially increased by adding additional regressors) and we only have categorical variables as regressors so possible high values of $R^{2}$ because of a large scale of regressors is not an issue."
      ],
      "metadata": {
        "id": "Vw9VoEnswZqB"
      }
    },
    {
      "cell_type": "markdown",
      "source": [
        "Use the regression models for molecular weight and viscosity to answer the following questions.\n",
        "## Task 6\n",
        "Construct a response surface contour plot for molecular\n",
        "weight. In what direction would you adjust therocess variables to increase molecular "
      ],
      "metadata": {
        "id": "l3QiSdBpGrYV"
      }
    },
    {
      "cell_type": "markdown",
      "source": [
        "### Weight"
      ],
      "metadata": {
        "id": "A6Wg13BkGv0C"
      }
    },
    {
      "cell_type": "code",
      "source": [
        "m$A_num <- df631_first_16$Temperature\n",
        "m$B_num <- df631_first_16$Concentration\n",
        "m$C_num <- df631_first_16$Time\n",
        "\n",
        "weight_lm <- lm(Weight ~ I((A_num-110)/10) + I((B_num-6)/2) + I((C_num-25)/5) + I((A_num-110)/10):I((B_num-6)/2), data=m)\n",
        "\n",
        "tmp <- data.frame(A_num=seq(100,120,by=0.5), B_num=seq(4,8,by=0.1), C_num=seq(20,30,by=0.25))\n",
        "new_data <- expand.grid(tmp)\n",
        "new_data$fit_weight <- predict(weight_lm,new_data)\n",
        "\n",
        "wireframe(fit_weight ~ A_num * C_num, data = new_data ,scales=list(arrows=FALSE), drape=TRUE, perspective=TRUE, xlab=\"Temperature\", ylab=\"Time\", zlab=\"Weight\", main=\"Response surface plot for molecular weight\")"
      ],
      "metadata": {
        "id": "tVut_UOV1hxg"
      },
      "execution_count": null,
      "outputs": []
    },
    {
      "cell_type": "markdown",
      "source": [
        "To increase weight, I would increase temperature and time."
      ],
      "metadata": {
        "id": "ExzUJZ_qEdmM"
      }
    },
    {
      "cell_type": "markdown",
      "source": [
        "## Task 7"
      ],
      "metadata": {
        "id": "m6Kn1MWp5vXR"
      }
    },
    {
      "cell_type": "markdown",
      "source": [
        "### Viscosity"
      ],
      "metadata": {
        "id": "8gQwLZlJGx-y"
      }
    },
    {
      "cell_type": "code",
      "source": [
        "viscos_lm <- lm(Viscosity ~ I((A_num-110)/10) + I((B_num-6)/2), data=m)\n",
        "new_data$fit_viscosity <- predict(viscos_lm,new_data)\n",
        "\n",
        "wireframe(fit_viscosity ~ A_num * B_num, data = new_data ,scales=list(arrows=FALSE), drape=TRUE, perspective=TRUE, xlab=\"Temperature\", ylab=\"Concentration\", zlab=\"Viscosity\", main=\"Response surface plot for molecular viscosity\")\n"
      ],
      "metadata": {
        "id": "tmfOBHMzEwzZ"
      },
      "execution_count": null,
      "outputs": []
    },
    {
      "cell_type": "markdown",
      "source": [
        "To increase viscosity, I would increase temperature and concentration."
      ],
      "metadata": {
        "id": "AThkbA-QFq6c"
      }
    },
    {
      "cell_type": "markdown",
      "source": [
        "## Task 8\n",
        "What operating conditions would you recommend if it was necessary to produce a product with molecular weight between 2400 and 2500 and the lowest possible viscosity?"
      ],
      "metadata": {
        "id": "oKDMR1WaG1c6"
      }
    },
    {
      "cell_type": "code",
      "source": [
        "par(mfrow = c(1,3))\n",
        "options(repr.plot.width = 10, repr.plot.height = 10)\n",
        "\n",
        "contourplot(fit_weight~A_num*C_num, data=new_data, xlab=\"Temperature\", ylab=\"Time\" ,main=\"Dependence of fitted weight values on Temperature and Time\")\n",
        "contourplot(fit_weight~B_num*C_num, data=new_data, xlab=\"Concentration\", ylab=\"Time\", main=\"Dependence of fitted weight values on Concentration and Time\")\n",
        "contourplot(fit_viscosity~A_num*B_num, data=new_data, xlab=\"Temperature\", ylab=\"Concentration\", main=\"Dependence of fitted viscosity values on Temperature and Concentration\")"
      ],
      "metadata": {
        "id": "ClY3HbV2HDym"
      },
      "execution_count": null,
      "outputs": []
    },
    {
      "cell_type": "markdown",
      "source": [
        "I would recommend temperature of 110 with concentration under 6, the lower the better and with the length of time bigger than 26. Viscosity is then around 1400-1450.\n",
        "The effect of pressure was not chosen in the final model as the effect was not prominent enough, nonetheless, it has a positive value of the regression parameter in the full model of molecular weight and a negative value of the regression parameter in the full model for molecular viscosity. I would opt for a higher value of pressure (75) as this would decrease viscosity and increase weight."
      ],
      "metadata": {
        "id": "I2HBqrFjUZ_Z"
      }
    },
    {
      "cell_type": "code",
      "source": [],
      "metadata": {
        "id": "aAMJy1Hoxc5Q"
      },
      "execution_count": null,
      "outputs": []
    },
    {
      "cell_type": "code",
      "source": [],
      "metadata": {
        "id": "KalN4pE6yGQS"
      },
      "execution_count": null,
      "outputs": []
    },
    {
      "cell_type": "markdown",
      "source": [
        "## Solution with fancy contour plots"
      ],
      "metadata": {
        "id": "onUUhuMv7Ptf"
      }
    },
    {
      "cell_type": "code",
      "source": [
        "######################\n",
        "# add more requirements\n",
        "list_of_packages <- c(\"scatterplot3d\",\"DoE.base\",\"metR\") #,\"alr3\",\"car\",\"nortest\",\"lattice\",\"pwr\",\"MASS\",  \"agricolae\",\n",
        "missing_packages <- list_of_packages[!(list_of_packages %in% installed.packages()[,\"Package\"])]\n",
        "if(length(missing_packages)) install.packages(missing_packages)\n",
        "lapply(list_of_packages, library, character.only = TRUE)"
      ],
      "metadata": {
        "id": "oIyXUhj9yGTo"
      },
      "execution_count": null,
      "outputs": []
    },
    {
      "cell_type": "code",
      "source": [
        "m         <- FrF2(2^4, 4, replications = 1, randomize = F,\n",
        "                  factor.names = c(\"A\", \"B\",\"C\", \"D\"))\n",
        "Weight    <- df631[1:16,\"Weight\"]\n",
        "Viscosity <- df631[1:16,\"Viscosity\"]\n",
        "m         <- add.response(m,Weight)\n",
        "m         <- add.response(m,Viscosity)\n",
        "\n",
        "response.names(m)\n",
        "print(m)\n"
      ],
      "metadata": {
        "id": "g8V4vvhczuyt"
      },
      "execution_count": null,
      "outputs": []
    },
    {
      "cell_type": "code",
      "source": [
        "# Weight\n",
        "MEPlot(m, response = \"Weight\")\n",
        "IAPlot(m, response = \"Weight\")\n",
        "# vypada to, ze A a C budou mit vliv\n",
        "# z interakci A:B\n",
        "\n",
        "summary(aov(Weight ~ A*B*C*D, data=m))\n",
        "\n",
        "model00 = lm(Weight~A*B*C*D,  data=m)\n",
        "barplot(sort(model00$coeff[2:(2^4-1)]))\n",
        "qqnorm(model00$coeff[2:(2^4-1)], cex = 1.3, pch = 15)\n",
        "qqline(model00$coeff[2:(2^4-1)], cex = 1.3, pch = 15)\n",
        "\n"
      ],
      "metadata": {
        "id": "1xKlbMV7zwdN"
      },
      "execution_count": null,
      "outputs": []
    },
    {
      "cell_type": "code",
      "source": [
        "DanielPlot(m,code=TRUE)\n",
        "# Classical effects qqplot\n",
        "qqplot(DanielPlot(m,alpha=0.1)$x,DanielPlot(m)$y)\n",
        "qqline(DanielPlot(m,alpha=0.1)$y)\n",
        "\n",
        "# half normal plot of effects\n",
        "DanielPlot(m,code=TRUE,alpha=0.1,half=TRUE)\n",
        "\n"
      ],
      "metadata": {
        "id": "O6IgWZ4g20Dt"
      },
      "execution_count": null,
      "outputs": []
    },
    {
      "cell_type": "code",
      "source": [
        "summary(Weight_final_m <- aov(Weight ~ A + B + C + A:B, data=m))\n",
        "plot(Weight_final_m)\n",
        "\n",
        "m_reg_Weight <- lm(Weight ~ A + B + C + A:B, data=m)\n",
        "summary(m_reg_Weight)\n",
        "op <- par(mfrow=c(2,2))\n",
        "plot(m_reg_Weight)\n",
        "\n",
        "\n"
      ],
      "metadata": {
        "id": "DB9X3JOd21Vf"
      },
      "execution_count": null,
      "outputs": []
    },
    {
      "cell_type": "code",
      "source": [
        "# Viscosity\n",
        "MEPlot(m, response = \"Viscosity\")\n",
        "IAPlot(m, response = \"Viscosity\")\n",
        "# vypada to, ze A a B budou mit vliv\n",
        "# v interakcich toho moc videt neni\n",
        "\n",
        "summary(aov(Viscosity ~ A*B*C*D, data=m))\n"
      ],
      "metadata": {
        "id": "U8FlnHr520pi"
      },
      "execution_count": null,
      "outputs": []
    },
    {
      "cell_type": "code",
      "source": [
        "model00 = lm(Viscosity~A*B*C*D,  data=m)\n",
        "barplot(sort(model00$coeff[2:(2^4-1)]),las = 2)\n",
        "qqnorm(model00$coeff[2:(2^4-1)],cex = 1.3,pch = 15)\n",
        "qqline(model00$coeff[2:(2^4-1)],cex = 1.3,pch = 15)\n",
        "\n",
        "summary(vis_final_m <- aov(Viscosity ~ A+B, data=m))\n",
        "plot(vis_final_m)\n"
      ],
      "metadata": {
        "id": "bvx5IKPe2zDy"
      },
      "execution_count": null,
      "outputs": []
    },
    {
      "cell_type": "code",
      "source": [
        "m_reg_vis <- lm(Viscosity ~ A + B , data=m)\n",
        "summary(m_reg_vis)\n",
        "op <- par(mfrow=c(2,2))\n",
        "plot(m_reg_vis)\n",
        "# outlier in measurement n. 12?\n"
      ],
      "metadata": {
        "id": "hsUFhp3h2ya-"
      },
      "execution_count": null,
      "outputs": []
    },
    {
      "cell_type": "code",
      "source": [
        "# 6.32\n",
        "new.data <- t(rbind(seq(100,120,by=.5),seq(4,8,by=.1),seq(20,30,by=.25)))\n",
        "colnames(new.data) <-c(\"Temperature\",\"Concentration\",\"Time\")\n",
        "new.data <- as.data.frame(new.data)\n",
        "new.data <- expand.grid(new.data)\n"
      ],
      "metadata": {
        "id": "p2nyPz4m2xxi"
      },
      "execution_count": null,
      "outputs": []
    },
    {
      "cell_type": "code",
      "source": [
        "\n",
        "Weight_num_m <- lm(Weight ~ Temperature + Concentration + Time + Temperature:Concentration, data=Problem_631)\n",
        "new.data$fit  <- predict(Weight_num_m,new.data)\n",
        "contourplot(fit~Temperature*Concentration,new.data[new.data$Time == 24,],xlab=\"A Temperature\",ylab=\"B Concentration\")\n",
        "# pro max Weight zvysit Temperature, Concentration i Time\n"
      ],
      "metadata": {
        "id": "KWwva5Q12xQt"
      },
      "execution_count": null,
      "outputs": []
    },
    {
      "cell_type": "code",
      "source": [
        "\n",
        "vis_num_m <- lm(Viscosity ~ Temperature + Concentration, data=Problem_631)\n",
        "new.data$fit2 <- predict(vis_num_m, new.data)\n",
        "contourplot(fit2~Temperature*Concentration,new.data[new.data$Time == 25,],xlab=\"A Temperature\",ylab=\"B Concentration\")\n",
        "# For Viscosity  Temperature and Concentration down\n",
        "\n",
        "# for Weight between 2400-2500 and min. Viscosity:\n",
        "# Concentration 4, Temperature 100, Time 20"
      ],
      "metadata": {
        "id": "cWqpGp202ww_"
      },
      "execution_count": null,
      "outputs": []
    },
    {
      "cell_type": "code",
      "source": [
        "\n",
        "p.lm            <- lm(Weight ~ Temperature + Concentration + Time + Temperature:Concentration, data=Problem_631)\n",
        "p.lm2           <- lm(Viscosity ~ Temperature + Concentration, data=Problem_631)\n",
        "p.tmp           <- list(Temperature=seq(100,120,by=1),Concentration=seq(4,8,by=.1))\n",
        "p.new.data      <- expand.grid(p.tmp)\n",
        "p.new.data$Time <- 24\n",
        "p.new.data$fit  <- predict(p.lm ,p.new.data)\n"
      ],
      "metadata": {
        "id": "QibQVg922wEj"
      },
      "execution_count": null,
      "outputs": []
    },
    {
      "cell_type": "code",
      "source": [
        "\n",
        "p.new.data2  <- p.new.data\n",
        "p.new.data2$fit  <- predict(p.lm2 ,p.new.data)\n",
        "p.new.data$response = \"Weight\"\n",
        "p.new.data2$response= \"Viscosity\"\n",
        "p.data = rbind(p.new.data,p.new.data2)\n",
        "\n"
      ],
      "metadata": {
        "id": "wZhYAfK92vof"
      },
      "execution_count": null,
      "outputs": []
    },
    {
      "cell_type": "code",
      "source": [
        "\n",
        "p.new.data3 <- p.new.data2 %>% \n",
        "  mutate(fit2  = predict(p.lm ,p.new.data)) %>% \n",
        "  rename(Viscosity = fit, \n",
        "         Weight = fit2) %>% \n",
        "  dplyr::select(-response)\n",
        "head(p.new.data3)\n",
        "\n"
      ],
      "metadata": {
        "id": "b5Sy2KCZ2vKT"
      },
      "execution_count": null,
      "outputs": []
    },
    {
      "cell_type": "code",
      "source": [],
      "metadata": {
        "id": "50QgySkp2uxy"
      },
      "execution_count": null,
      "outputs": []
    },
    {
      "cell_type": "code",
      "source": [
        "g <- ggplot(p.new.data3, aes(Temperature, Concentration)) +\n",
        "  geom_contour(aes(z = Viscosity),col= \"red\",binwidth = 10) +\n",
        "  geom_contour(aes(z = Weight), col = \"blue\",binwidth = 10) +\n",
        "  geom_label_contour(aes(z = Viscosity), col=\"red\") +\n",
        "  geom_label_contour(aes(z = Weight),col=\"blue\")\n",
        "g\n",
        "\n"
      ],
      "metadata": {
        "id": "Pc3spto62ucE"
      },
      "execution_count": null,
      "outputs": []
    },
    {
      "cell_type": "code",
      "source": [
        "ggplot(p.new.data, aes(Temperature,Concentration)) +\n",
        "  geom_contour_filled(aes(z = fit)) +\n",
        "  labs(title = \"Contour plot of p\",\n",
        "       x=\"A:Temperature\",y=\"C:Concentration\",\n",
        "       level = \"Weight\") \n",
        "\n",
        "\n"
      ],
      "metadata": {
        "id": "oqXDk92e2ttv"
      },
      "execution_count": null,
      "outputs": []
    },
    {
      "cell_type": "code",
      "source": [
        "\n",
        "p2 = ggplot(p.data, aes(x=Temperature , y=Concentration , z=fit, colour=response )) +\n",
        "  stat_contour(aes(alpha=..level..), binwidth=10) +\n",
        "  theme(panel.background=element_rect(fill=\"white\")) +\n",
        "  theme(panel.grid=element_blank()) +\n",
        "  labs(title=\"Plot 2\")\n",
        "p2\n"
      ],
      "metadata": {
        "id": "D0gH3yoY2tO_"
      },
      "execution_count": null,
      "outputs": []
    },
    {
      "cell_type": "code",
      "source": [
        "\n",
        "mutate_cond <- function(.data, condition, ..., envir = parent.frame()) {\n",
        "  condition <- eval(substitute(condition), .data, envir)\n",
        "  .data[condition, ] <- .data[condition, ] %>% mutate(...)\n",
        "  .data\n",
        "}\n"
      ],
      "metadata": {
        "id": "7sYQSwSG2tDx"
      },
      "execution_count": null,
      "outputs": []
    },
    {
      "cell_type": "code",
      "source": [
        "\n",
        "p.data2 <- p.data %>% \n",
        "  mutate_cond(response == \"Weight\", fit = fit - 2400) %>% \n",
        "  mutate_cond(response == \"Viscosity\", fit = fit - 1500)\n"
      ],
      "metadata": {
        "id": "VDCeL1Eh2smP"
      },
      "execution_count": null,
      "outputs": []
    },
    {
      "cell_type": "code",
      "source": [
        "\n",
        "p3 = ggplot(p.data2, aes(x=Temperature , y=Concentration , z=fit, colour=response )) +\n",
        "  stat_contour(aes(alpha=..level..), binwidth=10) +\n",
        "  theme(panel.background=element_rect(fill=\"white\")) +\n",
        "  theme(panel.grid=element_blank()) +\n",
        "  labs(title=\"Plot 2\")\n",
        "p3\n",
        "\n"
      ],
      "metadata": {
        "id": "OK-TQJq92sTi"
      },
      "execution_count": null,
      "outputs": []
    },
    {
      "cell_type": "code",
      "source": [],
      "metadata": {
        "id": "WXPDJAQF5WHW"
      },
      "execution_count": null,
      "outputs": []
    }
  ]
}