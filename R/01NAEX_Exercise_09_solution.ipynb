{
  "nbformat": 4,
  "nbformat_minor": 0,
  "metadata": {
    "colab": {
      "private_outputs": true,
      "provenance": [],
      "include_colab_link": true
    },
    "kernelspec": {
      "name": "ir",
      "display_name": "R"
    },
    "language_info": {
      "name": "R"
    }
  },
  "cells": [
    {
      "cell_type": "markdown",
      "metadata": {
        "id": "view-in-github",
        "colab_type": "text"
      },
      "source": [
        "<a href=\"https://colab.research.google.com/github/francji1/01NAEX/blob/main/R/01NAEX_Exercise_09_solution.ipynb\" target=\"_parent\"><img src=\"https://colab.research.google.com/assets/colab-badge.svg\" alt=\"Open In Colab\"/></a>"
      ]
    },
    {
      "cell_type": "markdown",
      "source": [
        "\t\n",
        "# O1NAEX Exercise 09"
      ],
      "metadata": {
        "id": "SJRUeUJPrezp"
      }
    },
    {
      "cell_type": "code",
      "source": [
        "cat(system('sudo apt-get install -y gmp', intern=TRUE), sep = \"\\n\")\n",
        "cat(system('sudo apt-get install -y partitions', intern=TRUE), sep = \"\\n\")\n",
        "cat(system('sudo apt-get install -y DoE.base', intern=TRUE), sep = \"\\n\")\n",
        "\n",
        "list_of_packages <- c(\"tidyverse\",\"MASS\",\"FrF2\") # \"agricolae\",\"nortest\",\"lattice\",\"pwr\",\n",
        "missing_packages <- list_of_packages[!(list_of_packages %in% installed.packages()[,\"Package\"])]\n",
        "missing_packages\n",
        "if(length(missing_packages)) install.packages(missing_packages)\n",
        "lapply(list_of_packages, library, character.only = TRUE)\n"
      ],
      "metadata": {
        "id": "crbwkzr9I90A"
      },
      "execution_count": null,
      "outputs": []
    },
    {
      "cell_type": "code",
      "source": [
        "tibble::tibble(\n",
        "  Package = names(installed.packages()[,3]),\n",
        "  Version = unname(installed.packages()[,3])\n",
        ")"
      ],
      "metadata": {
        "id": "mFJEGP4iPatd"
      },
      "execution_count": null,
      "outputs": []
    },
    {
      "cell_type": "code",
      "source": [
        "list_of_packages <- c(\"plotly\",\"lattice\",\"contourPlot\")\n",
        "missing_packages <- list_of_packages[!(list_of_packages %in% installed.packages()[,\"Package\"])]\n",
        "missing_packages\n",
        "if(length(missing_packages)) install.packages(missing_packages)\n",
        "lapply(list_of_packages, library, character.only = TRUE)"
      ],
      "metadata": {
        "id": "_0-v8ehoH2-n"
      },
      "execution_count": null,
      "outputs": []
    },
    {
      "cell_type": "markdown",
      "source": [
        "##\tProblem 11.8\n",
        "from the chapter 11 -  D. C. Montgomery DAoE - 8. edition.\n",
        "\n",
        "The data  were collected in\tan experiment to optimize crystal growth as a function of\tthree variables $x_1$, $x_2$, and $x_3$. Large values of y (`Yield` in grams)\tare desirable. Fit a second-order model and analyze the fitted surface. Under what set of conditions is maximum growth achieved?"
      ],
      "metadata": {
        "id": "_lYQT0wrrb3V"
      }
    },
    {
      "cell_type": "code",
      "source": [
        "df118 <- read.table(\"https://raw.githubusercontent.com/francji1/01NAEX/main/data/Ex118.csv\",header=TRUE,sep=\";\")\n",
        "df118"
      ],
      "metadata": {
        "id": "DfQaZt8HzOXa"
      },
      "execution_count": null,
      "outputs": []
    },
    {
      "cell_type": "code",
      "source": [
        "model <- lm.default(Yield~x1+x2+x3+ x1:x2 + x1:x3 + x2:x3 +I(x1^2)+I(x2^2)+I(x3^2),data=df118)\n",
        "summary(model)"
      ],
      "metadata": {
        "id": "LxCVoerYDA_H"
      },
      "execution_count": null,
      "outputs": []
    },
    {
      "cell_type": "code",
      "source": [
        "summary(aov(model))\n",
        "# we can see, that there are a lot of nonsignificant variables"
      ],
      "metadata": {
        "id": "ZdlSiXZlHjWM"
      },
      "execution_count": null,
      "outputs": []
    },
    {
      "cell_type": "code",
      "source": [
        "# a reasonable reduced model\n",
        "model <- lm.default(Yield~x2+x3+I(x2^2)+I(x3^2),data=df118)\n",
        "summary(model)"
      ],
      "metadata": {
        "id": "QERMvLu3sWIg"
      },
      "execution_count": null,
      "outputs": []
    },
    {
      "cell_type": "code",
      "source": [
        "summary(aov(model))"
      ],
      "metadata": {
        "id": "gQHVuOINsYGX"
      },
      "execution_count": null,
      "outputs": []
    },
    {
      "cell_type": "markdown",
      "source": [
        "##\tProblem 11.12\n",
        "from the chapter 11 -  D. C. Montgomery DAoE - 8. edition.\n",
        "\n",
        "Consider the three-variable central composite design. Analyze the data and draw conclusions, assuming that we wish to maximize `Conversion` ($y_1$) with\t\t\t`Activity` ($y_2$) between 55 and 60\tachieved?"
      ],
      "metadata": {
        "id": "oA3Z3QG_HjqU"
      }
    },
    {
      "cell_type": "code",
      "source": [
        "df1112 <- read.table(\"https://raw.githubusercontent.com/francji1/01NAEX/main/data/Ex1112.csv\",header=TRUE,sep=\";\")\n",
        "df1112"
      ],
      "metadata": {
        "id": "fxD9HMoPrbHg"
      },
      "execution_count": null,
      "outputs": []
    },
    {
      "cell_type": "code",
      "source": [
        "model <- lm.default(Conversion ~Time+Temperature+Catalyst+ Time:Temperature + Time:Catalyst + Temperature:Catalyst +I(Time^2)+I(Temperature^2)+I(Catalyst^2),data=df1112)\n",
        "summary(model)\n",
        "summary(aov(model))"
      ],
      "metadata": {
        "id": "pE5TJpklrbPN"
      },
      "execution_count": null,
      "outputs": []
    },
    {
      "cell_type": "code",
      "source": [
        "model2 <- lm.default(Activity ~Time+Temperature+Catalyst+ Time:Temperature + Time:Catalyst + Temperature:Catalyst +I(Time^2)+I(Temperature^2)+I(Catalyst^2),data=df1112)\n",
        "summary(model2)\n",
        "summary(aov(model2))"
      ],
      "metadata": {
        "id": "2F26bckauxvB"
      },
      "execution_count": null,
      "outputs": []
    },
    {
      "cell_type": "code",
      "source": [
        "# because of insignificancy, we gonna reduce the model\n",
        "model2 <- lm.default(Activity ~Time+Catalyst+I(Time^2),data=df1112)\n",
        "summary(model2)\n",
        "summary(aov(model2))"
      ],
      "metadata": {
        "id": "k2NDpu-wF6k-"
      },
      "execution_count": null,
      "outputs": []
    },
    {
      "cell_type": "code",
      "source": [
        "rate.lm <- lm(Activity ~Time + Catalyst + I(Time^2), df1112)\n",
        "tmp <- list(Time=seq(-1.681793,1.681793,by=.05),Catalyst=seq(-1.681793,1.681793,by=0.05),data=df1112)\n",
        "new.data <- expand.grid(tmp)\n",
        "new.data$time <- predict(rate.lm,new.data)\n",
        "contourplot(Activity ~Time + Catalyst + I(Time^2), df1112, xlab=\"A time\",ylab=\"B Catalyst\")"
      ],
      "metadata": {
        "id": "rT4Gb-sLPpMo"
      },
      "execution_count": null,
      "outputs": []
    },
    {
      "cell_type": "code",
      "source": [
        "rate.lm <- lm(Conversion ~Time + Catalyst + I(Time^2), df1112)\n",
        "tmp <- list(Time=seq(-1.681793,1.681793,by=.05),Catalyst=seq(-1.681793,1.681793,by=0.05),data=df1112)\n",
        "new.data <- expand.grid(tmp)\n",
        "new.data$time <- predict(rate.lm,new.data)\n",
        "contourplot(Conversion ~Time + Catalyst + I(Time^2), df1112, xlab=\"A time\",ylab=\"B Catalyst\")"
      ],
      "metadata": {
        "id": "GUfwNcDQu1OJ"
      },
      "execution_count": null,
      "outputs": []
    },
    {
      "cell_type": "code",
      "source": [
        "# if the contour plots were fine, we could see, that overlay area is acceptable region for procces"
      ],
      "metadata": {
        "id": "4dGn4Hu6K0v-"
      },
      "execution_count": null,
      "outputs": []
    },
    {
      "cell_type": "code",
      "source": [
        "0.\n"
      ],
      "metadata": {
        "id": "hf_el0FVgI6w"
      },
      "execution_count": null,
      "outputs": []
    }
  ]
}