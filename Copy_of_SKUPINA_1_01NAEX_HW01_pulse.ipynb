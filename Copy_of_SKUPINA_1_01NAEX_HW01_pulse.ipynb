{
  "nbformat": 4,
  "nbformat_minor": 0,
  "metadata": {
    "colab": {
      "private_outputs": true,
      "provenance": [],
      "collapsed_sections": [],
      "include_colab_link": true
    },
    "kernelspec": {
      "name": "ir",
      "display_name": "R"
    },
    "language_info": {
      "name": "R"
    }
  },
  "cells": [
    {
      "cell_type": "markdown",
      "metadata": {
        "id": "view-in-github",
        "colab_type": "text"
      },
      "source": [
        "<a href=\"https://colab.research.google.com/github/Many98/01NAEX/blob/main/Copy_of_SKUPINA_1_01NAEX_HW01_pulse.ipynb\" target=\"_parent\"><img src=\"https://colab.research.google.com/assets/colab-badge.svg\" alt=\"Open In Colab\"/></a>"
      ]
    },
    {
      "cell_type": "markdown",
      "metadata": {
        "lines_to_next_cell": 0,
        "id": "febba912"
      },
      "source": [
        "#01NAEX Home project 01\n",
        "\n",
        "*Add description of your Team*"
      ]
    },
    {
      "cell_type": "code",
      "execution_count": null,
      "metadata": {
        "lines_to_next_cell": 2,
        "name": "setup",
        "tags": [
          "remove_cell"
        ],
        "id": "6b0e5fb1"
      },
      "outputs": [],
      "source": [
        "knitr::opts_chunk$set(echo = TRUE)\n",
        "# get requirements for this project\n",
        "list_of_packages <- c(\"tidyverse\", \"lattice\", \"pwr\", \"MASS\",\"GGally\",\"agridat\",\"agricolae\")\n",
        "missing_packages <- list_of_packages[!(list_of_packages %in% installed.packages()[,\"Package\"])]\n",
        "if(length(missing_packages)) install.packages(missing_packages)\n",
        "lapply(list_of_packages, library, character.only = TRUE)\n",
        "\n",
        "######################\n",
        "# check your settings\n",
        "#getwd()\n",
        "#print(.libPaths())\n",
        "#print(sessionInfo())"
      ]
    },
    {
      "cell_type": "code",
      "source": [
        "print(version)"
      ],
      "metadata": {
        "id": "AIaz0HNtCmMJ"
      },
      "execution_count": null,
      "outputs": []
    },
    {
      "cell_type": "markdown",
      "metadata": {
        "id": "49a19642"
      },
      "source": [
        "# Research task:\n",
        "\n",
        "The goal of this research task is to find out the effect of exercise on resting heart rate.\n"
      ]
    },
    {
      "cell_type": "markdown",
      "source": [
        "\n",
        "# Descrition:\n",
        "\n",
        "You have the same number of operators as team members. Each of you will run the experiment, i.e. physical exercises and resting heart rate measurement.\n",
        "Choose 3 differently difficult exercises, (for example squats, push-ups, sit-ups, chair climbs, plank, mathematical computation, ...) and \"iteration\" whose levels are 10, 20, 30 (number of repetitions, number of seconds for plank, ...) affect the increase in heart rate per minute. Measure your heart rate at rest (you should have it at a similar level before each subsequent measurement) and then immediately after the exercise. Simply measure for 15 seconds and multiply the measurement by 4. In total, take 9 measurements each."
      ],
      "metadata": {
        "id": "xSCkXCzcCMao"
      }
    },
    {
      "cell_type": "markdown",
      "metadata": {
        "id": "b2dac64c"
      },
      "source": [
        "# Submission: \n",
        "\n",
        "Submit the elaborated measurement by October 19, 2022 in pdf + Rmd/jpnb format."
      ]
    },
    {
      "cell_type": "markdown",
      "metadata": {
        "id": "775fc4b3"
      },
      "source": [
        "# Questions: \n",
        "\n",
        " 1. Measure the data and set up the experiment so that it is *randomized*. Be sure to record the order of the measurements and the operator (member of the group taking the measurements) for each measurement. The number of replications for operator, exercise and iteration is one."
      ]
    },
    {
      "cell_type": "code",
      "source": [
        "data <- read.csv(\"data.csv\")\n",
        "data <- data %>% transmute(operator = as.factor(operator),\n",
        "                           cvik = as.factor(cvik),\n",
        "                           iterace = as.factor(iterace),\n",
        "                           tep = tep)\n",
        "data"
      ],
      "metadata": {
        "id": "Sj4HYlAfl24N"
      },
      "execution_count": null,
      "outputs": []
    },
    {
      "cell_type": "markdown",
      "source": [
        "done"
      ],
      "metadata": {
        "id": "XU53hHqMlhZX"
      }
    },
    {
      "cell_type": "markdown",
      "source": [
        "\n",
        "\n",
        "2. Calculate the basic statistics (mean, median and sd for each variable). Display the measured data (box plot, interaction plot, effects plot) and comment what we can predict about the outcome from the given figures before the analysis."
      ],
      "metadata": {
        "id": "EDEqhBWACOnP"
      }
    },
    {
      "cell_type": "code",
      "source": [
        "summary(data)\n",
        "str(data)"
      ],
      "metadata": {
        "id": "e69SiekzCX6Y"
      },
      "execution_count": null,
      "outputs": []
    },
    {
      "cell_type": "code",
      "source": [
        "data %>%                               # Summary by group using dplyr\n",
        "  group_by(operator) %>% \n",
        "  summarize(min = min(tep),\n",
        "            q1 = quantile(tep, 0.25),\n",
        "            median = median(tep),\n",
        "            mean = mean(tep),\n",
        "            q3 = quantile(tep, 0.75),\n",
        "            max = max(tep),\n",
        "            std = sd(tep))\n",
        "data %>%                               # Summary by group using dplyr\n",
        "  group_by(cvik) %>% \n",
        "  summarize(min = min(tep),\n",
        "            q1 = quantile(tep, 0.25),\n",
        "            median = median(tep),\n",
        "            mean = mean(tep),\n",
        "            q3 = quantile(tep, 0.75),\n",
        "            max = max(tep),\n",
        "            std = sd(tep))\n",
        "\n",
        "data %>%                               # Summary by group using dplyr\n",
        "  group_by(iterace) %>% \n",
        "  summarize(min = min(tep),\n",
        "            q1 = quantile(tep, 0.25),\n",
        "            median = median(tep),\n",
        "            mean = mean(tep),\n",
        "            q3 = quantile(tep, 0.75),\n",
        "            max = max(tep),\n",
        "            std = sd(tep))\n",
        "\n"
      ],
      "metadata": {
        "id": "Xt2S3jMVzl_v"
      },
      "execution_count": null,
      "outputs": []
    },
    {
      "cell_type": "code",
      "source": [
        "library(ggplot2)"
      ],
      "metadata": {
        "id": "Ggm_NKjlxcXN"
      },
      "execution_count": null,
      "outputs": []
    },
    {
      "cell_type": "markdown",
      "source": [
        "# **Box plots**"
      ],
      "metadata": {
        "id": "ecSCDjXIV081"
      }
    },
    {
      "cell_type": "code",
      "source": [
        "data %>%  \n",
        "          ggplot(aes(x=operator, y=tep, fill=operator)) + \n",
        "          geom_boxplot() + \n",
        "          stat_summary(fun=\"mean\", size=1, color='purple') + \n",
        "          geom_jitter(color=\"black\", size=0.9, alpha=0.5) +\n",
        "          theme(legend.position=\"none\")\n",
        "          #geom_point(size=3, shape=16, color='red')"
      ],
      "metadata": {
        "id": "2C2hkBpA2s82"
      },
      "execution_count": null,
      "outputs": []
    },
    {
      "cell_type": "markdown",
      "source": [
        "Na základe boxplotov sa dá usúdiť, že medzi jednotlivými blokmi/ operátormi nie je výrazný rozdiel v priemernom tepe\n",
        "naprieč všetkými cvikmi a ich intenzitou (počtom iterácii). Variance v rámci blokov sa taktiež zdá byť rozumne rovnaká."
      ],
      "metadata": {
        "id": "3nT9zAjEWJmG"
      }
    },
    {
      "cell_type": "code",
      "source": [
        "data %>% ggplot(aes(x=cvik, y=tep, fill=cvik)) + \n",
        "          geom_boxplot() + \n",
        "          stat_summary(fun=\"mean\", size=1, color='purple') +\n",
        "          geom_jitter(color=\"black\", size=0.9, alpha=0.5) +\n",
        "          theme(legend.position=\"none\")"
      ],
      "metadata": {
        "id": "9CkyO0-z3_wd"
      },
      "execution_count": null,
      "outputs": []
    },
    {
      "cell_type": "markdown",
      "source": [
        "Na druhú stranu boxplot vyššie naznačuje, že medzi cvikmi drep a židle nie je významný rozdiel v priemernom tepe ale medzi plankom a židli je."
      ],
      "metadata": {
        "id": "iZvQIOFsWmII"
      }
    },
    {
      "cell_type": "code",
      "source": [
        "data %>% ggplot(aes(x=iterace, y=tep, fill=iterace)) + \n",
        "          geom_boxplot() + \n",
        "          stat_summary(fun=\"mean\", size=1, color='purple') +\n",
        "          geom_jitter(color=\"black\", size=0.9, alpha=0.5) +\n",
        "          theme(legend.position=\"none\")"
      ],
      "metadata": {
        "id": "4Pm25w6K4NOQ"
      },
      "execution_count": null,
      "outputs": []
    },
    {
      "cell_type": "markdown",
      "source": [
        "Podobne môžme očakávať, že intenzita cvičenia meraná počtom iterácii cviku má vplyv na priemerný tep. Tento predpoklad potvrdzuje aj boxplot vyššie ale len do istej miery nakoľko medzi interaciami s 20 a 30 opakovaniami sa nezdá byť výrazný rozdiel čo môže byť sposobené akousi saturáciou tepovej intenzity keďže srdce má tiež svoje kapacity..."
      ],
      "metadata": {
        "id": "D7k6nr4CW_pL"
      }
    },
    {
      "cell_type": "markdown",
      "source": [
        "## **Interaction plots**"
      ],
      "metadata": {
        "id": "_YBqmGhKVsRs"
      }
    },
    {
      "cell_type": "code",
      "source": [
        "data %>% \n",
        "  group_by(operator, cvik) %>% \n",
        "  summarise(mean_tep = mean(tep)) %>%\n",
        "  ggplot() +\n",
        "  aes(x = cvik, y = mean_tep, color = operator) +\n",
        "  geom_line(aes(group = operator)) +\n",
        "  geom_point() +\n",
        "  labs(title=\"Interaction plot [cvik|operator]\", size=10)"
      ],
      "metadata": {
        "id": "EI5HZ7C2AKK_"
      },
      "execution_count": null,
      "outputs": []
    },
    {
      "cell_type": "code",
      "source": [
        "data %>% \n",
        "  group_by(iterace, operator) %>% \n",
        "  summarise(mean_tep = mean(tep)) %>%\n",
        "  ggplot() +\n",
        "  aes(x = iterace, y = mean_tep, color = operator) +\n",
        "  geom_line(aes(group = operator)) +\n",
        "  geom_point() +\n",
        "  labs(title=\"Interaction plot [iterace|operator]\", size=10)"
      ],
      "metadata": {
        "id": "nQbaWuLpBXjn"
      },
      "execution_count": null,
      "outputs": []
    },
    {
      "cell_type": "markdown",
      "source": [
        "V blokovom dizajne experimentu sa typicky nepredpokladá interackcia medzi blokovou premennou (operator v našom prípade) a vysvetľujúcimi. Dva obrázky vyššie poukazujú na to, že v rámci blokov sú trendy voči vývoju priemerného tepu podobné. Iterácia a operátor zjavne nevykazujú interakciu ale medzi operátorom a typom cviku môže existovať malá interakcia čo sa dá predpokladať vzhľadom k rôznej fyzickej kondicii jednotlivých operátorov."
      ],
      "metadata": {
        "id": "kyUubi2EZKKf"
      }
    },
    {
      "cell_type": "code",
      "source": [
        "data %>% \n",
        "  group_by(cvik, iterace) %>% \n",
        "  summarise(mean_tep = mean(tep)) %>%\n",
        "  ggplot() +\n",
        "  aes(x = cvik, y = mean_tep, color = iterace) +\n",
        "  geom_line(aes(group = iterace)) +\n",
        "  geom_point() +\n",
        "  labs(title=\"Interaction plot [cvik|iterace]\", size=10)"
      ],
      "metadata": {
        "id": "FRqoWZxxBhdz"
      },
      "execution_count": null,
      "outputs": []
    },
    {
      "cell_type": "code",
      "source": [
        "data %>% \n",
        "  group_by(cvik, iterace) %>% \n",
        "  summarise(mean_tep = mean(tep)) %>%\n",
        "  ggplot() +\n",
        "  aes(x = iterace, y = mean_tep, color = cvik) +\n",
        "  geom_line(aes(group = cvik)) +\n",
        "  geom_point() +\n",
        "  labs(title=\"Interaction plot [iterace|cvik]\", size=10)"
      ],
      "metadata": {
        "id": "O06gKzkOZrHr"
      },
      "execution_count": null,
      "outputs": []
    },
    {
      "cell_type": "markdown",
      "source": [
        "Interakčný plot medzi iteráciou a cvikom naznačuje, že medzi nimi môže dochádzať k nejakej interakcii. Zvláštne je, že v prípade drepov dochádza pri 30-násobnom opakovaní k zníženiu priemernej tepovej frekvencie oproti 20-násobnému opakovaniu."
      ],
      "metadata": {
        "id": "syZcAb97dl8I"
      }
    },
    {
      "cell_type": "markdown",
      "source": [
        "# **Effect plots**"
      ],
      "metadata": {
        "id": "YMmShiujV51o"
      }
    },
    {
      "cell_type": "code",
      "source": [
        "data %>% \n",
        "  group_by(operator) %>% \n",
        "  summarise(mean_tep = mean(tep)) %>%\n",
        "  ggplot(aes(x = operator, y = mean_tep, group=1, color=operator)) +\n",
        "  geom_line() +\n",
        "  geom_point() +\n",
        "  labs(title=\"Effect plot\", size=10)"
      ],
      "metadata": {
        "id": "tAghAoCCIhKT"
      },
      "execution_count": null,
      "outputs": []
    },
    {
      "cell_type": "code",
      "source": [
        "data %>% \n",
        "  group_by(cvik) %>% \n",
        "  summarise(mean_tep = mean(tep)) %>%\n",
        "  ggplot(aes(x = cvik, y = mean_tep, group=1, color=cvik)) +\n",
        "  geom_line() +\n",
        "  geom_point() +\n",
        "  labs(title=\"Effect plot\", size=10)"
      ],
      "metadata": {
        "id": "AEiaaeQPLLp2"
      },
      "execution_count": null,
      "outputs": []
    },
    {
      "cell_type": "code",
      "source": [
        "data %>% \n",
        "  group_by(iterace) %>% \n",
        "  summarise(mean_tep = mean(tep)) %>%\n",
        "  ggplot(aes(x = iterace, y = mean_tep, group=1, color=iterace)) +\n",
        "  geom_line() +\n",
        "  geom_point() +\n",
        "  labs(title=\"Effect plot\", size=10)"
      ],
      "metadata": {
        "id": "nZ0nXfuqLQm9"
      },
      "execution_count": null,
      "outputs": []
    },
    {
      "cell_type": "markdown",
      "source": [
        "Z effect plotov plynú rovnaké závery ako z boxplotov\n",
        "takže v nich nevidíme veľký zmysel..."
      ],
      "metadata": {
        "id": "MU7R57DygOVA"
      }
    },
    {
      "cell_type": "markdown",
      "source": [
        " \n",
        " \n",
        "3.  Focus especially on the factors exercise and iteration, operator is a nuisance parameter. Run one-way analysis of variance for each factor separately. Are there significance differences in means of hart rate increases? For each factor: perform Tukey HSD and Fisher LSD test for pairwise comparison of means of individual groups."
      ],
      "metadata": {
        "id": "3YF_m325CPRI"
      }
    },
    {
      "cell_type": "markdown",
      "source": [
        "### Cvik"
      ],
      "metadata": {
        "id": "BrxytpRlA4w2"
      }
    },
    {
      "cell_type": "code",
      "source": [
        "# Compute the analysis of variance\n",
        "res_aov_cvik <- aov(tep ~ cvik, data = data)\n",
        "# Summary of the analysis\n",
        "summary(res_aov_cvik)"
      ],
      "metadata": {
        "id": "ZzTivV1JLz1C"
      },
      "execution_count": null,
      "outputs": []
    },
    {
      "cell_type": "code",
      "source": [
        "Tukey_cvik <- TukeyHSD(res_aov_cvik ,which=\"cvik\")\n",
        "Tukey_cvik\n",
        "plot(Tukey_cvik) "
      ],
      "metadata": {
        "id": "mTnKKoAUBePL"
      },
      "execution_count": null,
      "outputs": []
    },
    {
      "cell_type": "code",
      "source": [
        "FisherLSD_cvik <- LSD.test(res_aov_cvik, \"cvik\")\n",
        "plot(FisherLSD_cvik)"
      ],
      "metadata": {
        "id": "A3PxPiogF9O-"
      },
      "execution_count": null,
      "outputs": []
    },
    {
      "cell_type": "code",
      "source": [
        "bartlett.test(tep ~ cvik, data=data)"
      ],
      "metadata": {
        "id": "XIi89YPZhFVU"
      },
      "execution_count": null,
      "outputs": []
    },
    {
      "cell_type": "code",
      "source": [
        "plot(lm(tep ~ cvik, data=data))"
      ],
      "metadata": {
        "id": "VecOFj7_hJ0r"
      },
      "execution_count": null,
      "outputs": []
    },
    {
      "cell_type": "markdown",
      "source": [
        "Cviky dřep a židle mají statisticky stejné střední hodnoty. Cvik plank má odlišnou střední hodnotu od těchto skupin."
      ],
      "metadata": {
        "id": "3Lmw9OnnHhh6"
      }
    },
    {
      "cell_type": "markdown",
      "source": [
        "### Operator"
      ],
      "metadata": {
        "id": "5yU08lVV_pZk"
      }
    },
    {
      "cell_type": "code",
      "source": [
        "# Compute the analysis of variance\n",
        "res_aov_operator <- aov(tep ~ operator, data = data)\n",
        "# Summary of the analysis\n",
        "summary(res_aov_operator)"
      ],
      "metadata": {
        "id": "yYTT3byd_pwF"
      },
      "execution_count": null,
      "outputs": []
    },
    {
      "cell_type": "code",
      "source": [
        "bartlett.test(tep ~ operator, data=data)"
      ],
      "metadata": {
        "id": "3u68k9UTh4sx"
      },
      "execution_count": null,
      "outputs": []
    },
    {
      "cell_type": "markdown",
      "source": [
        "Anova nenaznačuje signifikantný rozdiel medzi jednotlivými operátormi."
      ],
      "metadata": {
        "id": "Xj0r_WjehnbG"
      }
    },
    {
      "cell_type": "markdown",
      "source": [
        "### Iterace"
      ],
      "metadata": {
        "id": "1lbAyKw2_t-h"
      }
    },
    {
      "cell_type": "code",
      "source": [
        "# Compute the analysis of variance\n",
        "res_aov_iterace <- aov(tep ~ iterace, data = data)\n",
        "# Summary of the analysis\n",
        "summary(res_aov_iterace)"
      ],
      "metadata": {
        "id": "BscpOEGa_uT3"
      },
      "execution_count": null,
      "outputs": []
    },
    {
      "cell_type": "code",
      "source": [
        "Tukey_iterace <- TukeyHSD(res_aov_iterace ,which=\"iterace\")\n",
        "Tukey_iterace\n",
        "plot(Tukey_iterace) "
      ],
      "metadata": {
        "id": "TeZY61mSBg4F"
      },
      "execution_count": null,
      "outputs": []
    },
    {
      "cell_type": "code",
      "source": [
        "FisherLSD_iterace <- LSD.test(res_aov_iterace, \"iterace\")\n",
        "plot(FisherLSD_iterace)"
      ],
      "metadata": {
        "id": "qXzQCvkzImor"
      },
      "execution_count": null,
      "outputs": []
    },
    {
      "cell_type": "code",
      "source": [
        "bartlett.test(tep ~ iterace, data=data)"
      ],
      "metadata": {
        "id": "t5VNXbH6iH35"
      },
      "execution_count": null,
      "outputs": []
    },
    {
      "cell_type": "code",
      "source": [
        "plot(lm(tep ~ iterace, data=data))"
      ],
      "metadata": {
        "id": "3umem82tidcx"
      },
      "execution_count": null,
      "outputs": []
    },
    {
      "cell_type": "markdown",
      "source": [],
      "metadata": {
        "id": "NZ-M4d8Xibao"
      }
    },
    {
      "cell_type": "markdown",
      "metadata": {
        "id": "695cec94"
      },
      "source": [
        "4.  Analyse the data using ANOVA (take all variables as a factor).\n",
        "       * With the assumption that each of the participants in the experiment forms a block.\n",
        "       * Discuss results, verify assumptions, plot QQ-plot, residuals x fitted values, residuals x factor levels.\n",
        "       * Discuss the effect of the experimental design and the evolution of the residuals over time (number of measurements). \n",
        "       * If the measured data do not meet the assumptions for using ANOVA, discuss possible transformations (logarithmic, Box-Cox, ...)  and the reason why the data do not meet the assumptions? \n"
      ]
    },
    {
      "cell_type": "code",
      "source": [
        "summary(aov(tep ~ operator + cvik + iterace, data=data))\n",
        "plot(aov(tep ~ operator + cvik + iterace, data=data))\n",
        "plot(aov(tep ~ cvik + iterace + operator, data=data),5)\n",
        "plot(aov(tep ~ iterace + operator + cvik, data=data),5)"
      ],
      "metadata": {
        "id": "EBjV4NmZCYtu"
      },
      "execution_count": null,
      "outputs": []
    },
    {
      "cell_type": "markdown",
      "source": [
        "Můžeme vidět, že proměnná operátor je významná. Z grafů můžeme vidět, že jedno pozorování č. 8 je odlehlé a ovlivňuje křivky. Normalita z grafu je v pořádku. "
      ],
      "metadata": {
        "id": "Tub81odhahhX"
      }
    },
    {
      "cell_type": "code",
      "source": [
        "plot(aov(tep ~ operator + cvik + iterace, data=data),4)"
      ],
      "metadata": {
        "id": "XNDhsfdNf9de"
      },
      "execution_count": null,
      "outputs": []
    },
    {
      "cell_type": "markdown",
      "source": [
        "Díky náhodnému provedení jednotlivých cviků nejsou rezidua  tolik závislá na čase. Každý cvik obsahuje rezidua z různých časových okamžiků, díky tomu je eliminována únava operátora.\n",
        "Díky uspořádání experimentu rezidua odpovídají normálnímu rozdělení, což lze vypozorovat z výše uvedených grafů. Tento závěr potvrzuje i Shapiro-Wilkův test uvedený níže."
      ],
      "metadata": {
        "id": "8s6TbMh8lzHs"
      }
    },
    {
      "cell_type": "code",
      "source": [
        "# Extract the residuals\n",
        "aov_residuals <- residuals(object = aov(tep ~ operator + cvik + iterace, data=data) )\n",
        "# Run Shapiro-Wilk test\n",
        "shapiro.test(x = aov_residuals )"
      ],
      "metadata": {
        "id": "-PDy3lxXl14F"
      },
      "execution_count": null,
      "outputs": []
    },
    {
      "cell_type": "code",
      "source": [
        "summary(aov(log(tep) ~  cvik + iterace + operator, data=data))\n",
        "plot(aov(log(tep) ~ operator + cvik + iterace, data=data))"
      ],
      "metadata": {
        "id": "C0AQk66Rd1AH"
      },
      "execution_count": null,
      "outputs": []
    },
    {
      "cell_type": "code",
      "source": [
        "# anova bez operator\n",
        "summary(aov(tep ~ cvik + iterace, data=data))"
      ],
      "metadata": {
        "id": "hWqz4geRZtJY"
      },
      "execution_count": null,
      "outputs": []
    },
    {
      "cell_type": "markdown",
      "source": [
        "      \n",
        "5. Choose one level of iteration factor and *even if it does not meet the assumptions for using ANOVA*, solve the following: \n",
        "   * Calculate the power of the test in the ANOVA for 3 levels of exercises and **n** operators.\n",
        "   * Assume the standard deviation of the disturbances to be 4 for the experiment conducted\n",
        "     and the maximum (for us significant) difference we want to detect is 5 bpm.\n",
        "     Calculate the number of operators needed for the power of the resulting test to be greater than 0.9.\n"
      ],
      "metadata": {
        "id": "tYrFqeSgCRFM"
      }
    },
    {
      "cell_type": "code",
      "source": [
        "b = seq(2,27,by=1)\n",
        "a = 3 \n",
        "D = 5\n",
        "sigma = 4\n",
        "powers <- power.anova.test(groups=a,n=b,between.var = (D^2/2)/(a),\n",
        "within.var=sigma^2,sig.level=.05)$power\n",
        "rbind(b , powers)"
      ],
      "metadata": {
        "id": "PFlNPbBGmXel"
      },
      "execution_count": null,
      "outputs": []
    },
    {
      "cell_type": "markdown",
      "source": [
        "Pro operátor 26, je síla testu vyšší než 0.9."
      ],
      "metadata": {
        "id": "jj3HzX7ynT8S"
      }
    },
    {
      "cell_type": "markdown",
      "source": [
        "\n",
        "6. Create a regression model where you do not consider blocks and the iteration of exercises is the quantitative variable.\n",
        "      * Try to add a squared variable to the model and compare the two regression models with each other and select the more appropriate one.\n",
        "      * Check the assumptions for using the chosen model.\n"
      ],
      "metadata": {
        "id": "B3G7xBLJCSRv"
      }
    },
    {
      "cell_type": "code",
      "source": [
        "data1 <- data %>% transmute(operator = as.factor(operator),\n",
        "                           cvik = as.factor(cvik),\n",
        "                           iterace = as.numeric(iterace),\n",
        "                           tep = tep)"
      ],
      "metadata": {
        "id": "wlBk4S0IoJnN"
      },
      "execution_count": null,
      "outputs": []
    },
    {
      "cell_type": "code",
      "source": [
        "library(MASS)\n",
        "# Fit the full model \n",
        "full1.model <- lm(tep ~ cvik + iterace + cvik:iterace, data = data1)\n",
        "# Stepwise regression model\n",
        "step1.model <- stepAIC(full1.model, direction = \"both\", \n",
        "                      trace = FALSE)\n",
        "summary(step1.model)"
      ],
      "metadata": {
        "id": "IGbGm9GhCZt-"
      },
      "execution_count": null,
      "outputs": []
    },
    {
      "cell_type": "code",
      "source": [
        "# Fit the full model \n",
        "full2.model <- lm(tep ~ cvik + I(iterace^2) + iterace + cvik:iterace, data = data1)\n",
        "# Stepwise regression model\n",
        "step2.model <- stepAIC(full2.model, direction = \"both\", trace = FALSE)\n",
        "summary(step2.model)"
      ],
      "metadata": {
        "id": "pkzdiVhJpDnG"
      },
      "execution_count": null,
      "outputs": []
    },
    {
      "cell_type": "code",
      "source": [
        "plot(step1.model)"
      ],
      "metadata": {
        "id": "TaV-oI-2qJdA"
      },
      "execution_count": null,
      "outputs": []
    },
    {
      "cell_type": "code",
      "source": [
        "anova(full1.model,full2.model)"
      ],
      "metadata": {
        "id": "3M3btHCSpr9L"
      },
      "execution_count": null,
      "outputs": []
    },
    {
      "cell_type": "code",
      "source": [
        "anova(step1.model,step2.model)"
      ],
      "metadata": {
        "id": "nS1MKzlzwCjr"
      },
      "execution_count": null,
      "outputs": []
    },
    {
      "cell_type": "code",
      "source": [
        "bartlett.test(tep ~ iterace, data=data1)\n",
        "bartlett.test(tep ~ cvik, data=data1)"
      ],
      "metadata": {
        "id": "Ez2Wd3Skno1g"
      },
      "execution_count": null,
      "outputs": []
    },
    {
      "cell_type": "code",
      "source": [
        "plot(step1.model)"
      ],
      "metadata": {
        "id": "pf75t6RBqOGk"
      },
      "execution_count": null,
      "outputs": []
    },
    {
      "cell_type": "markdown",
      "source": [
        "Anova test neukázal, že mezi modely jsou významné rozdíly."
      ],
      "metadata": {
        "id": "oN_cs5XRqCAj"
      }
    },
    {
      "cell_type": "markdown",
      "source": [
        "\n",
        "7. If you based your previous answers on the p-value, discuss following.  Does p-value provide a good measure of evidence regarding a model or hypothesis?"
      ],
      "metadata": {
        "id": "ywNkrXCXCTQq"
      }
    },
    {
      "cell_type": "code",
      "source": [
        "model1 <- lm(tep ~ cvik + iterace + cvik:iterace + operator, data = data1)\n",
        "model2 <- lm(tep ~ operator + cvik + I(iterace^2) + iterace + cvik:iterace, data = data1)\n",
        "anova(model1, model2)"
      ],
      "metadata": {
        "id": "pIm5RWkhrdJb"
      },
      "execution_count": null,
      "outputs": []
    },
    {
      "cell_type": "markdown",
      "source": [
        "Nakoľko anova poukazuje na nesignifikantný rozdiel medzi modelmi tak je lepšie uvažovať model jednoduchší. Na druhú stranu v modeloch nezohľadňujeme známy a významný (ako bolo ukázané v 4.) efekt blokov čo môže viesť k zavádzajúcim záverom ohľadom porovanávania dvoch vnorených modelov. (Po zohľadnení efektu blokov sme dospeli k rovnakému záveru a síce na hladine 5% nie je medzi modelmi významný rozdiel a preto je lepšie pracovať s jednoduchším...)"
      ],
      "metadata": {
        "id": "2nueOPGjsLbc"
      }
    },
    {
      "cell_type": "markdown",
      "metadata": {
        "id": "2b699ff1"
      },
      "source": [
        "Note: In case the blocks are highly dominant and none of the other variables appear significant,\n",
        "      use only the \"operator with the best data for academic purposes\" for the resulting analysis."
      ]
    }
  ]
}